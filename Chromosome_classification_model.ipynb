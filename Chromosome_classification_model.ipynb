{
  "cells": [
    {
      "cell_type": "markdown",
      "metadata": {
        "id": "view-in-github",
        "colab_type": "text"
      },
      "source": [
        "<a href=\"https://colab.research.google.com/github/OnurBasci/ARGENIT_Internship/blob/main/Chromosome_classification_model.ipynb\" target=\"_parent\"><img src=\"https://colab.research.google.com/assets/colab-badge.svg\" alt=\"Open In Colab\"/></a>"
      ]
    },
    {
      "cell_type": "markdown",
      "metadata": {
        "id": "AkAMDO2DJViM"
      },
      "source": [
        "first deep learning project"
      ]
    },
    {
      "cell_type": "markdown",
      "metadata": {
        "id": "cXPs9KYIJwb_"
      },
      "source": [
        "imports\n"
      ]
    },
    {
      "cell_type": "code",
      "execution_count": null,
      "metadata": {
        "id": "qUE5ezH_JUIc"
      },
      "outputs": [],
      "source": [
        "import torch\n",
        "import torch.nn as nn\n",
        "import torch.optim as optim\n",
        "import torch.nn.functional as F\n",
        "from torch.utils.data import DataLoader\n",
        "import torchvision.datasets as datasets\n",
        "import torchvision\n",
        "import torchvision.transforms as transforms\n"
      ]
    },
    {
      "cell_type": "markdown",
      "metadata": {
        "id": "iRLtdfyu3EYj"
      },
      "source": [
        "drivea erisim"
      ]
    },
    {
      "cell_type": "code",
      "execution_count": null,
      "metadata": {
        "colab": {
          "base_uri": "https://localhost:8080/"
        },
        "id": "l7IvmcgO3IgF",
        "outputId": "9459890c-bec0-4094-a0e3-40ea3be05eae"
      },
      "outputs": [
        {
          "name": "stdout",
          "output_type": "stream",
          "text": [
            "Mounted at /content/gdrive\n"
          ]
        }
      ],
      "source": [
        "from google.colab import drive\n",
        "drive.mount('/content/gdrive')"
      ]
    },
    {
      "cell_type": "markdown",
      "metadata": {
        "id": "jQ7xhCjB3L87"
      },
      "source": [
        "unzip the dataset"
      ]
    },
    {
      "cell_type": "code",
      "execution_count": null,
      "metadata": {
        "id": "cu8F7ivD3ONM"
      },
      "outputs": [],
      "source": [
        "!cp -r /content/gdrive/MyDrive/staj/chromosome_segmentation/clasify_dataset /content/datasets"
      ]
    },
    {
      "cell_type": "code",
      "execution_count": null,
      "metadata": {
        "id": "AniPiA4b3eGW"
      },
      "outputs": [],
      "source": [
        "%cd /content/datasets/clasify_dataset\n",
        "!unzip /content/datasets/cuted_image.zip"
      ]
    },
    {
      "cell_type": "markdown",
      "metadata": {
        "id": "_qO7jnq84oSA"
      },
      "source": [
        "Class for custom dataset"
      ]
    },
    {
      "cell_type": "code",
      "execution_count": null,
      "metadata": {
        "id": "09zXqu-Z4vpU"
      },
      "outputs": [],
      "source": [
        "import os\n",
        "import pandas as pd\n",
        "import torch\n",
        "from torch.utils.data import Dataset\n",
        "from skimage import io"
      ]
    },
    {
      "cell_type": "code",
      "execution_count": null,
      "metadata": {
        "id": "fN2nHtWC5fcb"
      },
      "outputs": [],
      "source": [
        "class chromosomes(Dataset):\n",
        "  def __init__(self, csv_file, root_dir, transform=None):\n",
        "    self.annotations = pd.read_csv(csv_file)\n",
        "    self.root_dir = root_dir\n",
        "    self.transform = transform\n",
        "  def __len__(self):\n",
        "    return len(self.annotations)\n",
        "  \n",
        "  def __getitem__(self, index):\n",
        "    img_path = os.path.join(self.root_dir, str(pd.read_csv(\"/content/datasets/z_labels.csv\").iloc[index, 0]).split(\";\")[0]) #the most stupid code ever\n",
        "    image = io.imread(img_path)\n",
        "    y_label = torch.tensor(int(pd.read_csv(\"/content/datasets/z_labels.csv\").iloc[index, 0].split(\";\")[1]))\n",
        "\n",
        "    if self.transform:\n",
        "      image = self.transform(image)\n",
        "    \n",
        "    return (image, y_label)"
      ]
    },
    {
      "cell_type": "code",
      "execution_count": null,
      "metadata": {
        "colab": {
          "base_uri": "https://localhost:8080/"
        },
        "id": "_dFR2-kKNhU0",
        "outputId": "8c8c2c40-0aa6-4342-8b5b-1fba2e8f603b"
      },
      "outputs": [
        {
          "name": "stdout",
          "output_type": "stream",
          "text": [
            "23\n"
          ]
        }
      ],
      "source": [
        "print(str(pd.read_csv(\"/content/datasets/z_labels.csv\").iloc[71, 0]).split(\";\")[1])\n",
        "#print(str(pd.read_csv(\"z_labels.csv\").iloc[0]).split(\";\")[1])"
      ]
    },
    {
      "cell_type": "markdown",
      "metadata": {
        "id": "cdmK9BeT7L3g"
      },
      "source": [
        "custom datasetler icin"
      ]
    },
    {
      "cell_type": "code",
      "execution_count": null,
      "metadata": {
        "id": "HOjJIu7R7LZa"
      },
      "outputs": [],
      "source": [
        "batch_size = 64\n",
        "dataset = chromosomes(csv_file = '/content/datasets/z_labels.csv', root_dir = \"/content/datasets/clasify_dataset/cuted_image\", transform = transforms.ToTensor())\n",
        "train_set, test_set = torch.utils.data.random_split(dataset, [20000, 3000])\n",
        "train_loader = DataLoader(dataset=train_set, batch_size=batch_size, shuffle=True)\n",
        "test_loader = DataLoader(dataset=test_set, batch_size=batch_size, shuffle=True)"
      ]
    },
    {
      "cell_type": "markdown",
      "metadata": {
        "id": "gNPIoC8l_Goy"
      },
      "source": [
        "Parameters"
      ]
    },
    {
      "cell_type": "code",
      "execution_count": null,
      "metadata": {
        "id": "SOUtXxy_NWYD"
      },
      "outputs": [],
      "source": [
        "device = torch.device(\"cuda\" if torch.cuda.is_available() else \"cpu\")\n",
        "input_size = 2500 #50*50 size of images\n",
        "num_classes = 24\n",
        "learning_rate = 0.01\n",
        "num_epochs = 24\n",
        "in_channel = 3"
      ]
    },
    {
      "cell_type": "markdown",
      "metadata": {
        "id": "EFeVVSumS6rc"
      },
      "source": [
        "googlenet model"
      ]
    },
    {
      "cell_type": "code",
      "execution_count": null,
      "metadata": {
        "id": "aK7d2Mpi_IXb"
      },
      "outputs": [],
      "source": [
        "model = torchvision.models.googlenet(pretrained=True)\n",
        "model.to(device)"
      ]
    },
    {
      "cell_type": "markdown",
      "metadata": {
        "id": "NgtcsGBvS9sO"
      },
      "source": [
        "Resnet model"
      ]
    },
    {
      "cell_type": "code",
      "execution_count": null,
      "metadata": {
        "id": "NKZCmanYTEGo"
      },
      "outputs": [],
      "source": [
        "model = torchvision.models.resnet18()\n",
        "model.to(device)"
      ]
    },
    {
      "cell_type": "markdown",
      "metadata": {
        "id": "iiGEKNlm28tT"
      },
      "source": [
        "Mnist dataseti icin"
      ]
    },
    {
      "cell_type": "code",
      "execution_count": null,
      "metadata": {
        "id": "jKx6DedUK2eg"
      },
      "outputs": [],
      "source": [
        "batch_size = 64\n",
        "train_dataset = datasets.MNIST(\n",
        "    root=\"dataset/\",\n",
        "    train=True,\n",
        "    transform=transforms.ToTensor(),\n",
        "    download = True\n",
        ")\n",
        "train_loader = DataLoader(\n",
        "    dataset=train_dataset, batch_size=batch_size, shuffle=True\n",
        ")\n",
        "test_dataset = datasets.MNIST(\n",
        "    root=\"dataset/\",\n",
        "    train = False,\n",
        "    transform = transforms.ToTensor(),\n",
        "    download=True\n",
        ")\n",
        "test_loader = DataLoader(\n",
        "    dataset=test_dataset, batch_size=batch_size, shuffle=True\n",
        ")\n"
      ]
    },
    {
      "cell_type": "markdown",
      "metadata": {
        "id": "DJt7665UNTPO"
      },
      "source": [
        "define the neural network\n"
      ]
    },
    {
      "cell_type": "code",
      "execution_count": null,
      "metadata": {
        "id": "JS4CsKX-NAiQ"
      },
      "outputs": [],
      "source": [
        "class NN(nn.Module):\n",
        "  def __init__(self, input_size, num_classes):\n",
        "    super(NN, self).__init__()\n",
        "    self.fc1 = nn.Linear(input_size, 50)\n",
        "    self.fc2 = nn.Linear(50, num_classes)\n",
        "  \n",
        "  def forward(self, x):\n",
        "    x = F.relu(self.fc1(x))\n",
        "    x = self.fc2(x)\n",
        "    return x\n"
      ]
    },
    {
      "cell_type": "code",
      "execution_count": null,
      "metadata": {
        "id": "hz8QRvCSOrG4"
      },
      "outputs": [],
      "source": [
        "\n",
        "criterion = nn.CrossEntropyLoss()\n",
        "optimizer = optim.SGD(model.parameters(), lr = learning_rate)"
      ]
    },
    {
      "cell_type": "code",
      "execution_count": null,
      "metadata": {
        "id": "LF1Dm2tC_7Vm"
      },
      "outputs": [],
      "source": [
        "model = NN(input_size=input_size, num_classes=num_classes).to(device)"
      ]
    },
    {
      "cell_type": "code",
      "execution_count": null,
      "metadata": {
        "colab": {
          "background_save": true
        },
        "id": "Ngnit8VKTxEb"
      },
      "outputs": [],
      "source": [
        "for epoch in range(num_epochs):\n",
        "  print(f\"Epoch: {epoch}\")\n",
        "  for batch_idx, (data, targets) in enumerate(train_loader):\n",
        "    print(batch_idx)\n",
        "    #get data to cuda if possible\n",
        "    data = data.to(device=device)\n",
        "    targets = targets.to(device=device)\n",
        "\n",
        "    #get to correct shape 28*28-> 784\n",
        "    #data = data.reshape(data.shape[0], -1)\n",
        "\n",
        "    #forward propagation\n",
        "    scores = model(data)\n",
        "    loss = criterion(scores, targets)\n",
        "\n",
        "    #zero previous gradients\n",
        "    optimizer.zero_grad()\n",
        "\n",
        "    #back-propagation\n",
        "    loss.backward()\n",
        "\n",
        "    #Adam descent\n",
        "    optimizer.step()"
      ]
    },
    {
      "cell_type": "code",
      "execution_count": null,
      "metadata": {
        "id": "j33IYv8wsLRi"
      },
      "outputs": [],
      "source": [
        "def check_accuracy(loader, model):\n",
        "  num_correct = 0\n",
        "  num_samples = 0\n",
        "\n",
        "  #put he model in the evaluation mode\n",
        "  model.eval()\n",
        "\n",
        "  with torch.no_grad():\n",
        "    for x, y in loader:\n",
        "      x= x.to(device=device)\n",
        "      y = y.to(device=device)\n",
        "\n",
        "      scores = model(x)\n",
        "      _, predictions = scores.max(1)\n",
        "      num_correct += (predictions == y).sum()\n",
        "      num_samples += predictions.size(0)\n",
        "\n",
        "      print(\n",
        "          f\"Got {num_correct}/{num_samples} with accuracy\"\n",
        "          f\"{float(num_correct) / float(num_samples) * 100:.2f}\"\n",
        "      )\n",
        "\n",
        "      model.train()"
      ]
    },
    {
      "cell_type": "code",
      "execution_count": null,
      "metadata": {
        "id": "9kzMnm7UumYa"
      },
      "outputs": [],
      "source": [
        "#check_accuracy(train_loader, model)\n",
        "check_accuracy(test_loader, model)"
      ]
    }
  ],
  "metadata": {
    "accelerator": "GPU",
    "colab": {
      "provenance": [],
      "authorship_tag": "ABX9TyMhpigxSug0f87glhGXj8H2",
      "include_colab_link": true
    },
    "kernelspec": {
      "display_name": "Python 3",
      "name": "python3"
    },
    "language_info": {
      "name": "python"
    }
  },
  "nbformat": 4,
  "nbformat_minor": 0
}